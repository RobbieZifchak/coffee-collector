{
 "cells": [
  {
   "cell_type": "code",
   "execution_count": 1,
   "metadata": {},
   "outputs": [],
   "source": [
    "import mysql.connector\n",
    "import config\n",
    "import yelp_key\n",
    "import requests\n",
    "import json"
   ]
  },
  {
   "cell_type": "code",
   "execution_count": 48,
   "metadata": {},
   "outputs": [],
   "source": [
    "# Establish connection to database\n",
    "cnx = mysql.connector.connect(\n",
    "    host = config.host,\n",
    "    user = config.user,\n",
    "    password = config.passwd)\n",
    "\n",
    "c = cnx.cursor()"
   ]
  },
  {
   "cell_type": "code",
   "execution_count": 3,
   "metadata": {},
   "outputs": [],
   "source": [
    "key = yelp_key.key"
   ]
  },
  {
   "cell_type": "markdown",
   "metadata": {},
   "source": [
    "## Business Search Endpoint"
   ]
  },
  {
   "cell_type": "code",
   "execution_count": 37,
   "metadata": {},
   "outputs": [],
   "source": [
    "count = 0\n",
    "#Business Search Endpoint\n",
    "url = 'https://api.yelp.com/v3/businesses/search'\n",
    "\n",
    "term = 'coffee'\n",
    "location = \"56 Bogart St, Brooklyn, NY 11206\"\n",
    "latitude = 40.710946\n",
    "longitude = -73.951152\n",
    "sort_by = 'distance'\n",
    "\n",
    "\n",
    "headers = {\n",
    "            'Authorization': 'Bearer {}'.format(key),\n",
    "           }\n",
    "\n",
    "url_params = {  'term': term.replace(' ', '+'),\n",
    "                'location': location.replace(' ', '+'),\n",
    "                'limit' : 50,\n",
    "                'latitude' : 40.710946,\n",
    "                'longitude' : -73.951152,\n",
    "                'offset': count, \n",
    "                'radius' : 5500,\n",
    "                'sort_by' : sort_by.replace(' ', '+')\n",
    "          }"
   ]
  },
  {
   "cell_type": "code",
   "execution_count": 38,
   "metadata": {},
   "outputs": [],
   "source": [
    "def business_search(url, headers, params):\n",
    "    response = requests.get(url, headers = headers, params = url_params)\n",
    "    business = json.loads(response.text)\n",
    "    return business\n"
   ]
  },
  {
   "cell_type": "code",
   "execution_count": 20,
   "metadata": {},
   "outputs": [],
   "source": [
    "business_data = business_search(url, headers = headers, params = url_params)"
   ]
  },
  {
   "cell_type": "code",
   "execution_count": 21,
   "metadata": {},
   "outputs": [
    {
     "data": {
      "text/plain": [
       "50"
      ]
     },
     "execution_count": 21,
     "metadata": {},
     "output_type": "execute_result"
    }
   ],
   "source": [
    "len(business_data['businesses'])"
   ]
  },
  {
   "cell_type": "code",
   "execution_count": 22,
   "metadata": {},
   "outputs": [
    {
     "data": {
      "text/plain": [
       "4800"
      ]
     },
     "execution_count": 22,
     "metadata": {},
     "output_type": "execute_result"
    }
   ],
   "source": [
    "#how many cafes were returned?\n",
    "business_data['total']"
   ]
  },
  {
   "cell_type": "markdown",
   "metadata": {},
   "source": [
    "There are 4800 cafe's total in response"
   ]
  },
  {
   "cell_type": "code",
   "execution_count": 9,
   "metadata": {},
   "outputs": [
    {
     "data": {
      "text/plain": [
       "{'id': 'm-Syr8BpEbgK-6zSgY_7Kg',\n",
       " 'alias': 'cafe-argentino-brooklyn',\n",
       " 'name': 'Cafe Argentino',\n",
       " 'image_url': 'https://s3-media4.fl.yelpcdn.com/bphoto/ve7_oOWMKev1hmlxYlLxZg/o.jpg',\n",
       " 'is_closed': False,\n",
       " 'url': 'https://www.yelp.com/biz/cafe-argentino-brooklyn?adjust_creative=d31wiC8swpcod_WEbvT7ew&utm_campaign=yelp_api_v3&utm_medium=api_v3_business_search&utm_source=d31wiC8swpcod_WEbvT7ew',\n",
       " 'review_count': 250,\n",
       " 'categories': [{'alias': 'argentine', 'title': 'Argentine'},\n",
       "  {'alias': 'steak', 'title': 'Steakhouses'},\n",
       "  {'alias': 'cafes', 'title': 'Cafes'}],\n",
       " 'rating': 4.0,\n",
       " 'coordinates': {'latitude': 40.711199, 'longitude': -73.95137},\n",
       " 'transactions': ['delivery', 'restaurant_reservation', 'pickup'],\n",
       " 'price': '$$',\n",
       " 'location': {'address1': '499 Grand St',\n",
       "  'address2': '',\n",
       "  'address3': '',\n",
       "  'city': 'Brooklyn',\n",
       "  'zip_code': '11211',\n",
       "  'country': 'US',\n",
       "  'state': 'NY',\n",
       "  'display_address': ['499 Grand St', 'Brooklyn, NY 11211']},\n",
       " 'phone': '+17187829477',\n",
       " 'display_phone': '(718) 782-9477',\n",
       " 'distance': 33.60129189760131}"
      ]
     },
     "execution_count": 9,
     "metadata": {},
     "output_type": "execute_result"
    }
   ],
   "source": [
    "#preview first result \n",
    "business_data['businesses'][0]"
   ]
  },
  {
   "cell_type": "markdown",
   "metadata": {
    "jupyter": {
     "source_hidden": true
    }
   },
   "source": [
    "What Attributes are of interest from this endpoint?\n",
    "- id\n",
    "- name\n",
    "- review count\n",
    "- rating\n",
    "- price\n",
    "- location > address1 +\n",
    "- city\n",
    "- zip\n",
    "- state\n",
    "- phone\n",
    "\n",
    "What might be collected from the business/details?\n",
    "\n",
    "- id\n",
    "- name\n",
    "- review_count\n",
    "- rating\n",
    "- price\n",
    "- location > address 1 + city + zip + state\n",
    "- lat / long geocode\n",
    "- phone\n",
    "- categories\n",
    "\n",
    "(basically all the same fields as business/search... but with geocode available\n",
    "\n",
    "\n",
    "business/reviews endpoint:\n",
    "\n",
    "for each review..\n",
    "\n",
    "- id \n",
    "- rating\n",
    "- user > id, name\n",
    "- text\n"
   ]
  },
  {
   "cell_type": "code",
   "execution_count": 39,
   "metadata": {},
   "outputs": [],
   "source": [
    "def parse_business(business_json):\n",
    "    \n",
    "    parsed_businesses = []\n",
    "    \n",
    "    for biz in business_json['businesses']:\n",
    "        try:\n",
    "            tup = (biz['id'], biz['name'], biz['rating'],len(biz['price']),\n",
    "                   ' '.join(biz['location']['display_address']),\n",
    "                   biz['display_phone'], biz['review_count'],\n",
    "                   biz['categories'][0]['title'])\n",
    "            parsed_businesses.append(tup)\n",
    "        except:\n",
    "            tup = (biz['id'], biz['name'], biz['rating'], 0,\n",
    "                       ' '.join(biz['location']['display_address']),\n",
    "                     biz['display_phone'], biz['review_count'],\n",
    "                       biz['categories'][0]['title'])\n",
    "\n",
    "            parsed_businesses.append(tup)\n",
    "            \n",
    "    return parsed_businesses\n",
    "            "
   ]
  },
  {
   "cell_type": "code",
   "execution_count": 23,
   "metadata": {},
   "outputs": [],
   "source": [
    "parsed_businesses = parse_business(business_data)"
   ]
  },
  {
   "cell_type": "code",
   "execution_count": 25,
   "metadata": {},
   "outputs": [
    {
     "data": {
      "text/plain": [
       "('DO91C6baD0RSO-AN6cKCCA',\n",
       " 'The West',\n",
       " 4.0,\n",
       " 2,\n",
       " '379 Union Ave Brooklyn, NY 11211',\n",
       " '(718) 599-1704',\n",
       " 224,\n",
       " 'Coffee & Tea')"
      ]
     },
     "execution_count": 25,
     "metadata": {},
     "output_type": "execute_result"
    }
   ],
   "source": [
    "parsed_businesses[1]"
   ]
  },
  {
   "cell_type": "code",
   "execution_count": 40,
   "metadata": {},
   "outputs": [],
   "source": [
    "def get_review_url(biz_data):\n",
    "    review_url = []\n",
    "    for i in range(len(biz_data)):\n",
    "        review_url.append(f'https://api.yelp.com/v3/businesses/{biz_data[i][0]}/reviews')\n",
    "    return review_url"
   ]
  },
  {
   "cell_type": "code",
   "execution_count": 15,
   "metadata": {},
   "outputs": [],
   "source": [
    "review_url = get_review_url(biz_data)"
   ]
  },
  {
   "cell_type": "code",
   "execution_count": 41,
   "metadata": {},
   "outputs": [],
   "source": [
    "def review_call(review_urls, headers):\n",
    "    review_data = []\n",
    "    for urls in review_urls:\n",
    "        response = requests.get(urls, headers = headers)\n",
    "        review = json.loads(response.text)\n",
    "        review_data.append(review)\n",
    "    return review_data"
   ]
  },
  {
   "cell_type": "code",
   "execution_count": 18,
   "metadata": {},
   "outputs": [],
   "source": [
    "review_raw = review_call(review_url, headers)"
   ]
  },
  {
   "cell_type": "code",
   "execution_count": 19,
   "metadata": {
    "collapsed": true,
    "jupyter": {
     "outputs_hidden": true
    }
   },
   "outputs": [
    {
     "data": {
      "text/plain": [
       "{'reviews': [{'id': 'xUG_lVmFGTsqI2IafdilVg',\n",
       "   'url': 'https://www.yelp.com/biz/cafe-argentino-brooklyn?adjust_creative=d31wiC8swpcod_WEbvT7ew&hrid=xUG_lVmFGTsqI2IafdilVg&utm_campaign=yelp_api_v3&utm_medium=api_v3_business_reviews&utm_source=d31wiC8swpcod_WEbvT7ew',\n",
       "   'text': 'It has been delicious before and it continues to provide comfort during these uncertain time. They have a rather plentiful takeout menu! From empanadas yum!...',\n",
       "   'rating': 5,\n",
       "   'time_created': '2020-06-21 18:43:35',\n",
       "   'user': {'id': '4ecxgN6DXQSMSigQgkXIAA',\n",
       "    'profile_url': 'https://www.yelp.com/user_details?userid=4ecxgN6DXQSMSigQgkXIAA',\n",
       "    'image_url': 'https://s3-media4.fl.yelpcdn.com/photo/dUJfIW3oXemLEyH6gaCZPw/o.jpg',\n",
       "    'name': 'Daniela B.'}},\n",
       "  {'id': 'hlaJQ7M4QMczimvtWMJwxQ',\n",
       "   'url': 'https://www.yelp.com/biz/cafe-argentino-brooklyn?adjust_creative=d31wiC8swpcod_WEbvT7ew&hrid=hlaJQ7M4QMczimvtWMJwxQ&utm_campaign=yelp_api_v3&utm_medium=api_v3_business_reviews&utm_source=d31wiC8swpcod_WEbvT7ew',\n",
       "   'text': 'Our last stop before heading to Atl.The food was great.Steak was perfect .( Im very picking)The staff was very friendly sat us asap even during this...',\n",
       "   'rating': 5,\n",
       "   'time_created': '2020-09-06 18:17:49',\n",
       "   'user': {'id': 'Cl2c3JnSBKxZ-Eb9WQEzrg',\n",
       "    'profile_url': 'https://www.yelp.com/user_details?userid=Cl2c3JnSBKxZ-Eb9WQEzrg',\n",
       "    'image_url': 'https://s3-media2.fl.yelpcdn.com/photo/_HxnRwKNO9KMCmaDPeLpxA/o.jpg',\n",
       "    'name': 'Tina R.'}},\n",
       "  {'id': 'BFUTGnbSZke9TJ62Lk-KNQ',\n",
       "   'url': 'https://www.yelp.com/biz/cafe-argentino-brooklyn?adjust_creative=d31wiC8swpcod_WEbvT7ew&hrid=BFUTGnbSZke9TJ62Lk-KNQ&utm_campaign=yelp_api_v3&utm_medium=api_v3_business_reviews&utm_source=d31wiC8swpcod_WEbvT7ew',\n",
       "   'text': 'After a long day of setting up remote learning, came home to the BEST empanadas! Thank you Cafe Argentino Restaurant! (thank goodness for take-out, too...',\n",
       "   'rating': 5,\n",
       "   'time_created': '2020-03-18 16:00:06',\n",
       "   'user': {'id': 'h7gdYqOAeNGNy6aoO_FS9A',\n",
       "    'profile_url': 'https://www.yelp.com/user_details?userid=h7gdYqOAeNGNy6aoO_FS9A',\n",
       "    'image_url': 'https://s3-media2.fl.yelpcdn.com/photo/cgBtyhtS2IEk9qqlDcENNw/o.jpg',\n",
       "    'name': 'Kristen D.'}}],\n",
       " 'total': 250,\n",
       " 'possible_languages': ['fr', 'en', 'es']}"
      ]
     },
     "execution_count": 19,
     "metadata": {},
     "output_type": "execute_result"
    }
   ],
   "source": [
    "review_raw[0]"
   ]
  },
  {
   "cell_type": "code",
   "execution_count": 42,
   "metadata": {},
   "outputs": [],
   "source": [
    "def get_business_ids(business_data):\n",
    "    ids = []\n",
    "    for i in range(len(business_data)):\n",
    "        ids.append(business_data[i][0])\n",
    "    return ids\n",
    "        "
   ]
  },
  {
   "cell_type": "code",
   "execution_count": 23,
   "metadata": {},
   "outputs": [],
   "source": [
    "business_ids = get_business_ids(biz_data)"
   ]
  },
  {
   "cell_type": "code",
   "execution_count": 43,
   "metadata": {},
   "outputs": [],
   "source": [
    "def add_business_ids(business_ids, review_data):\n",
    "    id_plus_reviews = []\n",
    "    for i in range(len(review_data)):\n",
    "        join = (business_ids[i], review_data[i])\n",
    "        id_plus_reviews.append(list(join))\n",
    "        \n",
    "    join_dict = list(map(lambda x: {'business_id': x[0], 'reviews' : x[1]}, id_plus_reviews))\n",
    "    return join_dict  "
   ]
  },
  {
   "cell_type": "code",
   "execution_count": 62,
   "metadata": {},
   "outputs": [],
   "source": [
    "reviews_with_business_id = add_business_ids(business_ids, review_raw)"
   ]
  },
  {
   "cell_type": "code",
   "execution_count": 63,
   "metadata": {
    "collapsed": true,
    "jupyter": {
     "outputs_hidden": true
    }
   },
   "outputs": [
    {
     "data": {
      "text/plain": [
       "{'business_id': 'WWvlUxNgmYaT_umfRU3cvA',\n",
       " 'reviews': {'reviews': [{'id': 'w9IsUv18UsBCf1sDd0KTPQ',\n",
       "    'url': 'https://www.yelp.com/biz/niforos-coffee-shop-long-island-city?adjust_creative=d31wiC8swpcod_WEbvT7ew&hrid=w9IsUv18UsBCf1sDd0KTPQ&utm_campaign=yelp_api_v3&utm_medium=api_v3_business_reviews&utm_source=d31wiC8swpcod_WEbvT7ew',\n",
       "    'text': \"So glad to welcome this space back to the neighborhood. New name, new management, similar menu (though I'm told now with more Mexican food), same pleasingly...\",\n",
       "    'rating': 5,\n",
       "    'time_created': '2019-07-21 09:31:50',\n",
       "    'user': {'id': '1Z-povofP-her5ElltKejQ',\n",
       "     'profile_url': 'https://www.yelp.com/user_details?userid=1Z-povofP-her5ElltKejQ',\n",
       "     'image_url': 'https://s3-media4.fl.yelpcdn.com/photo/RXkWQYDdbeUY4uXVWEP_zw/o.jpg',\n",
       "     'name': 'Carl B.'}},\n",
       "   {'id': 'jq7XnsS6_Qw3XrV8F4QaYw',\n",
       "    'url': 'https://www.yelp.com/biz/niforos-coffee-shop-long-island-city?adjust_creative=d31wiC8swpcod_WEbvT7ew&hrid=jq7XnsS6_Qw3XrV8F4QaYw&utm_campaign=yelp_api_v3&utm_medium=api_v3_business_reviews&utm_source=d31wiC8swpcod_WEbvT7ew',\n",
       "    'text': \"I have to admit, Niforos Coffee Shop is simply rather darn cool. Can't wait to try everything off the menu here. Every single thing we purchased was superb...\",\n",
       "    'rating': 4,\n",
       "    'time_created': '2020-11-24 02:35:09',\n",
       "    'user': {'id': 'jifPiEOVndrf-DrEbMK_nQ',\n",
       "     'profile_url': 'https://www.yelp.com/user_details?userid=jifPiEOVndrf-DrEbMK_nQ',\n",
       "     'image_url': 'https://s3-media3.fl.yelpcdn.com/photo/kjuEq3biv2hkNriLckBeSw/o.jpg',\n",
       "     'name': 'Crystle S.'}},\n",
       "   {'id': 'DLyMuZEFm_l3lZSADUqw2w',\n",
       "    'url': 'https://www.yelp.com/biz/niforos-coffee-shop-long-island-city?adjust_creative=d31wiC8swpcod_WEbvT7ew&hrid=DLyMuZEFm_l3lZSADUqw2w&utm_campaign=yelp_api_v3&utm_medium=api_v3_business_reviews&utm_source=d31wiC8swpcod_WEbvT7ew',\n",
       "    'text': 'Great little diner in what is otherwise an industrial wasteland portion of Long Island City.  While it is CASH ONLY, which I take issue with on a number of...',\n",
       "    'rating': 4,\n",
       "    'time_created': '2020-02-11 06:53:19',\n",
       "    'user': {'id': 'BXFiKczsN-IKZhzGPTq3Kg',\n",
       "     'profile_url': 'https://www.yelp.com/user_details?userid=BXFiKczsN-IKZhzGPTq3Kg',\n",
       "     'image_url': 'https://s3-media1.fl.yelpcdn.com/photo/CIwtkbu9K9h5xMmHfxM2lA/o.jpg',\n",
       "     'name': 'Alexander B.'}}],\n",
       "  'total': 5,\n",
       "  'possible_languages': ['en']}}"
      ]
     },
     "execution_count": 63,
     "metadata": {},
     "output_type": "execute_result"
    }
   ],
   "source": [
    "reviews_with_business_id[0]"
   ]
  },
  {
   "cell_type": "code",
   "execution_count": 44,
   "metadata": {},
   "outputs": [],
   "source": [
    "def parse_reviews(reviews_with_business_id):\n",
    "    parsed_reviews = []\n",
    "    \n",
    "    for x in reviews_with_business_id:\n",
    "\n",
    "        if 'error' in x['reviews'].keys():\n",
    "            tup = (x['business_id'], x['reviews']['error']['code'])\n",
    "            parsed_reviews.append(tup)\n",
    "        else:\n",
    "            try:\n",
    "                for i in range(len(x['reviews'])):\n",
    "                    tup = (x['business_id'], x['reviews']['reviews'][i]['id'],\n",
    "                           x['reviews']['reviews'][i]['time_created'],\n",
    "                           x['reviews']['reviews'][i]['rating'],\n",
    "                           x['reviews']['reviews'][i]['user']['id'],\n",
    "                           x['reviews']['reviews'][i]['user']['name'],\n",
    "                           x['reviews']['reviews'][i]['text'])\n",
    "\n",
    "                    parsed_reviews.append(tup)\n",
    "                    i+1\n",
    "            except Exception as e:\n",
    "                print(e,': missing reviews')\n",
    "    return parsed_reviews\n",
    "            \n"
   ]
  },
  {
   "cell_type": "code",
   "execution_count": 64,
   "metadata": {},
   "outputs": [
    {
     "name": "stdout",
     "output_type": "stream",
     "text": [
      "list index out of range : missing reviews\n",
      "list index out of range : missing reviews\n",
      "list index out of range : missing reviews\n",
      "list index out of range : missing reviews\n",
      "list index out of range : missing reviews\n",
      "list index out of range : missing reviews\n"
     ]
    }
   ],
   "source": [
    "parsed_reviews = parse_reviews(reviews_with_business_id)"
   ]
  },
  {
   "cell_type": "code",
   "execution_count": 65,
   "metadata": {},
   "outputs": [
    {
     "data": {
      "text/plain": [
       "('WWvlUxNgmYaT_umfRU3cvA',\n",
       " 'w9IsUv18UsBCf1sDd0KTPQ',\n",
       " '2019-07-21 09:31:50',\n",
       " 5,\n",
       " '1Z-povofP-her5ElltKejQ',\n",
       " 'Carl B.',\n",
       " \"So glad to welcome this space back to the neighborhood. New name, new management, similar menu (though I'm told now with more Mexican food), same pleasingly...\")"
      ]
     },
     "execution_count": 65,
     "metadata": {},
     "output_type": "execute_result"
    }
   ],
   "source": [
    "parsed_reviews[0]"
   ]
  },
  {
   "cell_type": "code",
   "execution_count": 39,
   "metadata": {},
   "outputs": [],
   "source": [
    "# c.execute('''CREATE DATABASE coffee IF NOT EXISTS''')"
   ]
  },
  {
   "cell_type": "code",
   "execution_count": 45,
   "metadata": {},
   "outputs": [],
   "source": [
    "# c.execute('''DROP TABLE reviews;\n",
    "#             DROP TABLE cafes;''')"
   ]
  },
  {
   "cell_type": "code",
   "execution_count": 49,
   "metadata": {},
   "outputs": [],
   "source": [
    "c.execute('''USE coffee''')"
   ]
  },
  {
   "cell_type": "code",
   "execution_count": 55,
   "metadata": {},
   "outputs": [],
   "source": [
    "c.execute('''CREATE TABLE cafes(\n",
    "\n",
    "                ID VARCHAR(100) PRIMARY KEY,\n",
    "                NAME VARCHAR(100),\n",
    "                RATING FLOAT,\n",
    "                PRICE INT,\n",
    "                ADDRESS VARCHAR(160),\n",
    "                PHONE VARCHAR(100),\n",
    "                REVIEW_COUNT INT,\n",
    "                CATEGORIES VARCHAR(200));'''\n",
    "         )"
   ]
  },
  {
   "cell_type": "code",
   "execution_count": 56,
   "metadata": {},
   "outputs": [],
   "source": [
    "c.execute(                     \n",
    "            '''CREATE TABLE reviews(\n",
    "            \n",
    "                CAFE_ID VARCHAR(100),\n",
    "                REVIEW_ID VARCHAR(100) PRIMARY KEY,\n",
    "                REVIEW_DATE DATETIME,\n",
    "                RATING FLOAT,\n",
    "                USER_ID VARCHAR(100),\n",
    "                USER_NAME VARCHAR(100),\n",
    "                REVIEW VARCHAR(1000),\n",
    "                CONSTRAINT FOREIGN KEY (CAFE_ID) REFERENCES cafes(ID)\n",
    "                                    ); \n",
    "                \n",
    "                                   '''\n",
    "         )"
   ]
  },
  {
   "cell_type": "code",
   "execution_count": 52,
   "metadata": {},
   "outputs": [],
   "source": [
    "def cafes_insert(c, cnx, parsed_business):\n",
    "    \n",
    "    c.executemany('''INSERT INTO coffee.cafes\n",
    "                    (ID, NAME, RATING, PRICE, ADDRESS, PHONE, REVIEW_COUNT, CATEGORIES)\n",
    "                    VALUES (%s, %s, %s, %s, %s, %s, %s, %s);''', parsed_business)\n",
    "    cnx.commit()"
   ]
  },
  {
   "cell_type": "code",
   "execution_count": 60,
   "metadata": {},
   "outputs": [],
   "source": [
    "cafes_insert(c, cnx, parsed_businesses)"
   ]
  },
  {
   "cell_type": "code",
   "execution_count": 53,
   "metadata": {},
   "outputs": [],
   "source": [
    "def review_insert(c, cnx, parsed_review):\n",
    "    for x in parsed_review:\n",
    "        if len(x) == 7:\n",
    "            c.execute('''INSERT INTO coffee.reviews (CAFE_ID, REVIEW_ID, REVIEW_DATE, RATING, USER_ID, USER_NAME, REVIEW)\n",
    "                        VALUES (%s, %s, %s, %s, %s, %s, %s)''', x)\n",
    "        else:\n",
    "            c.execute('''INSERT INTO coffee.reviews (CAFE_ID, REVIEW)\n",
    "                        VALUES (%s, %s)''', x)\n",
    "        \n",
    "    cnx.commit()"
   ]
  },
  {
   "cell_type": "code",
   "execution_count": 61,
   "metadata": {},
   "outputs": [],
   "source": [
    "review_insert(c, cnx, parsed_reviews)"
   ]
  },
  {
   "cell_type": "code",
   "execution_count": 57,
   "metadata": {
    "collapsed": true,
    "jupyter": {
     "outputs_hidden": true
    }
   },
   "outputs": [
    {
     "name": "stdout",
     "output_type": "stream",
     "text": [
      "list index out of range : missing reviews\n",
      "list index out of range : missing reviews\n",
      "list index out of range : missing reviews\n",
      "list index out of range : missing reviews\n",
      "list index out of range : missing reviews\n",
      "list index out of range : missing reviews\n",
      "list index out of range : missing reviews\n",
      "list index out of range : missing reviews\n",
      "list index out of range : missing reviews\n",
      "list index out of range : missing reviews\n",
      "list index out of range : missing reviews\n",
      "list index out of range : missing reviews\n",
      "list index out of range : missing reviews\n",
      "list index out of range : missing reviews\n",
      "list index out of range : missing reviews\n",
      "list index out of range : missing reviews\n",
      "list index out of range : missing reviews\n",
      "list index out of range : missing reviews\n",
      "list index out of range : missing reviews\n",
      "list index out of range : missing reviews\n",
      "list index out of range : missing reviews\n",
      "list index out of range : missing reviews\n",
      "list index out of range : missing reviews\n",
      "list index out of range : missing reviews\n",
      "list index out of range : missing reviews\n",
      "list index out of range : missing reviews\n",
      "list index out of range : missing reviews\n",
      "list index out of range : missing reviews\n",
      "list index out of range : missing reviews\n",
      "list index out of range : missing reviews\n",
      "list index out of range : missing reviews\n",
      "list index out of range : missing reviews\n",
      "list index out of range : missing reviews\n",
      "list index out of range : missing reviews\n",
      "list index out of range : missing reviews\n",
      "list index out of range : missing reviews\n",
      "list index out of range : missing reviews\n",
      "list index out of range : missing reviews\n",
      "list index out of range : missing reviews\n",
      "list index out of range : missing reviews\n",
      "list index out of range : missing reviews\n",
      "list index out of range : missing reviews\n",
      "list index out of range : missing reviews\n",
      "list index out of range : missing reviews\n",
      "list index out of range : missing reviews\n",
      "list index out of range : missing reviews\n",
      "list index out of range : missing reviews\n",
      "list index out of range : missing reviews\n",
      "list index out of range : missing reviews\n",
      "list index out of range : missing reviews\n",
      "list index out of range : missing reviews\n",
      "list index out of range : missing reviews\n",
      "list index out of range : missing reviews\n",
      "list index out of range : missing reviews\n",
      "list index out of range : missing reviews\n",
      "list index out of range : missing reviews\n",
      "list index out of range : missing reviews\n",
      "list index out of range : missing reviews\n",
      "list index out of range : missing reviews\n",
      "list index out of range : missing reviews\n",
      "list index out of range : missing reviews\n",
      "list index out of range : missing reviews\n",
      "list index out of range : missing reviews\n",
      "list index out of range : missing reviews\n",
      "list index out of range : missing reviews\n",
      "list index out of range : missing reviews\n",
      "list index out of range : missing reviews\n",
      "list index out of range : missing reviews\n",
      "list index out of range : missing reviews\n",
      "list index out of range : missing reviews\n",
      "list index out of range : missing reviews\n",
      "list index out of range : missing reviews\n",
      "list index out of range : missing reviews\n",
      "list index out of range : missing reviews\n",
      "list index out of range : missing reviews\n",
      "list index out of range : missing reviews\n",
      "list index out of range : missing reviews\n",
      "list index out of range : missing reviews\n",
      "list index out of range : missing reviews\n",
      "list index out of range : missing reviews\n",
      "list index out of range : missing reviews\n",
      "list index out of range : missing reviews\n",
      "list index out of range : missing reviews\n",
      "list index out of range : missing reviews\n",
      "list index out of range : missing reviews\n",
      "list index out of range : missing reviews\n",
      "list index out of range : missing reviews\n",
      "list index out of range : missing reviews\n",
      "list index out of range : missing reviews\n",
      "list index out of range : missing reviews\n",
      "list index out of range : missing reviews\n",
      "list index out of range : missing reviews\n",
      "list index out of range : missing reviews\n",
      "list index out of range : missing reviews\n",
      "list index out of range : missing reviews\n",
      "list index out of range : missing reviews\n",
      "list index out of range : missing reviews\n",
      "list index out of range : missing reviews\n",
      "list index out of range : missing reviews\n",
      "list index out of range : missing reviews\n",
      "list index out of range : missing reviews\n",
      "list index out of range : missing reviews\n"
     ]
    },
    {
     "ename": "KeyError",
     "evalue": "'businesses'",
     "output_type": "error",
     "traceback": [
      "\u001b[0;31m---------------------------------------------------------------------------\u001b[0m",
      "\u001b[0;31mKeyError\u001b[0m                                  Traceback (most recent call last)",
      "\u001b[0;32m<ipython-input-57-25f446b03563>\u001b[0m in \u001b[0;36m<module>\u001b[0;34m\u001b[0m\n\u001b[1;32m      4\u001b[0m     \u001b[0murl_params\u001b[0m\u001b[0;34m[\u001b[0m\u001b[0;34m'offset'\u001b[0m\u001b[0;34m]\u001b[0m \u001b[0;34m=\u001b[0m \u001b[0mcount\u001b[0m\u001b[0;34m\u001b[0m\u001b[0;34m\u001b[0m\u001b[0m\n\u001b[1;32m      5\u001b[0m     \u001b[0mbusiness_data\u001b[0m \u001b[0;34m=\u001b[0m \u001b[0mbusiness_search\u001b[0m\u001b[0;34m(\u001b[0m\u001b[0murl\u001b[0m\u001b[0;34m,\u001b[0m \u001b[0mheaders\u001b[0m \u001b[0;34m=\u001b[0m \u001b[0mheaders\u001b[0m\u001b[0;34m,\u001b[0m \u001b[0mparams\u001b[0m \u001b[0;34m=\u001b[0m \u001b[0murl_params\u001b[0m\u001b[0;34m)\u001b[0m\u001b[0;34m\u001b[0m\u001b[0;34m\u001b[0m\u001b[0m\n\u001b[0;32m----> 6\u001b[0;31m     \u001b[0mparsed_businesses\u001b[0m \u001b[0;34m=\u001b[0m \u001b[0mparse_business\u001b[0m\u001b[0;34m(\u001b[0m\u001b[0mbusiness_data\u001b[0m\u001b[0;34m)\u001b[0m\u001b[0;34m\u001b[0m\u001b[0;34m\u001b[0m\u001b[0m\n\u001b[0m\u001b[1;32m      7\u001b[0m     \u001b[0mreview_urls\u001b[0m \u001b[0;34m=\u001b[0m \u001b[0mget_review_url\u001b[0m\u001b[0;34m(\u001b[0m\u001b[0mparsed_businesses\u001b[0m\u001b[0;34m)\u001b[0m\u001b[0;34m\u001b[0m\u001b[0;34m\u001b[0m\u001b[0m\n\u001b[1;32m      8\u001b[0m     \u001b[0mreview_raw\u001b[0m \u001b[0;34m=\u001b[0m \u001b[0mreview_call\u001b[0m\u001b[0;34m(\u001b[0m\u001b[0mreview_urls\u001b[0m\u001b[0;34m,\u001b[0m \u001b[0mheaders\u001b[0m\u001b[0;34m)\u001b[0m\u001b[0;34m\u001b[0m\u001b[0;34m\u001b[0m\u001b[0m\n",
      "\u001b[0;32m<ipython-input-39-6cc32dab6e18>\u001b[0m in \u001b[0;36mparse_business\u001b[0;34m(business_json)\u001b[0m\n\u001b[1;32m      3\u001b[0m     \u001b[0mparsed_businesses\u001b[0m \u001b[0;34m=\u001b[0m \u001b[0;34m[\u001b[0m\u001b[0;34m]\u001b[0m\u001b[0;34m\u001b[0m\u001b[0;34m\u001b[0m\u001b[0m\n\u001b[1;32m      4\u001b[0m \u001b[0;34m\u001b[0m\u001b[0m\n\u001b[0;32m----> 5\u001b[0;31m     \u001b[0;32mfor\u001b[0m \u001b[0mbiz\u001b[0m \u001b[0;32min\u001b[0m \u001b[0mbusiness_json\u001b[0m\u001b[0;34m[\u001b[0m\u001b[0;34m'businesses'\u001b[0m\u001b[0;34m]\u001b[0m\u001b[0;34m:\u001b[0m\u001b[0;34m\u001b[0m\u001b[0;34m\u001b[0m\u001b[0m\n\u001b[0m\u001b[1;32m      6\u001b[0m         \u001b[0;32mtry\u001b[0m\u001b[0;34m:\u001b[0m\u001b[0;34m\u001b[0m\u001b[0;34m\u001b[0m\u001b[0m\n\u001b[1;32m      7\u001b[0m             tup = (biz['id'], biz['name'], biz['rating'],len(biz['price']),\n",
      "\u001b[0;31mKeyError\u001b[0m: 'businesses'"
     ]
    }
   ],
   "source": [
    "count = 0 \n",
    "#4800 cafes total. Yelp restricts business endpoint daily pull to 1000, throwing error if limit is reached\n",
    "while count < 1000:\n",
    "    url_params['offset'] = count\n",
    "    business_data = business_search(url, headers = headers, params = url_params)\n",
    "    parsed_businesses = parse_business(business_data)\n",
    "    review_urls = get_review_url(parsed_businesses)\n",
    "    review_raw = review_call(review_urls, headers)\n",
    "    business_ids = get_business_ids(parsed_businesses)\n",
    "    reviews_with_business_id = add_business_ids(business_ids, review_raw)\n",
    "    parsed_reviews = parse_reviews(reviews_with_business_id)\n",
    "    cafes_insert(c, cnx, parsed_businesses)\n",
    "    review_insert(c, cnx, parsed_reviews)\n",
    "    count += 50\n",
    "    if count > 1000:\n",
    "        break"
   ]
  }
 ],
 "metadata": {
  "kernelspec": {
   "display_name": "Python 3",
   "language": "python",
   "name": "python3"
  },
  "language_info": {
   "codemirror_mode": {
    "name": "ipython",
    "version": 3
   },
   "file_extension": ".py",
   "mimetype": "text/x-python",
   "name": "python",
   "nbconvert_exporter": "python",
   "pygments_lexer": "ipython3",
   "version": "3.7.4"
  }
 },
 "nbformat": 4,
 "nbformat_minor": 4
}
